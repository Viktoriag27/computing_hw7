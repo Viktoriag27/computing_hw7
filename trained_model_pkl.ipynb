{
 "cells": [
  {
   "cell_type": "code",
   "execution_count": 5,
   "metadata": {},
   "outputs": [
    {
     "name": "stdout",
     "output_type": "stream",
     "text": [
      "Train ROC AUC: 0.6712414599079148\n",
      "Test ROC AUC: 0.6708277332409377\n"
     ]
    },
    {
     "name": "stderr",
     "output_type": "stream",
     "text": [
      "/Users/macbookpro/Desktop/Victoria/DSDM/computing_ds/hw/hw7/computing_hw7/data_processing.py:36: SettingWithCopyWarning: \n",
      "A value is trying to be set on a copy of a slice from a DataFrame\n",
      "\n",
      "See the caveats in the documentation: https://pandas.pydata.org/pandas-docs/stable/user_guide/indexing.html#returning-a-view-versus-a-copy\n",
      "  df['height'].fillna(df['height'].mean(), inplace=True)\n",
      "/Users/macbookpro/Desktop/Victoria/DSDM/computing_ds/hw/hw7/computing_hw7/data_processing.py:37: SettingWithCopyWarning: \n",
      "A value is trying to be set on a copy of a slice from a DataFrame\n",
      "\n",
      "See the caveats in the documentation: https://pandas.pydata.org/pandas-docs/stable/user_guide/indexing.html#returning-a-view-versus-a-copy\n",
      "  df['weight'].fillna(df['weight'].mean(), inplace=True)\n"
     ]
    }
   ],
   "source": [
    "from data_processing import load_data, clean_data, split_data\n",
    "from model_training_evaluation import train_model, evaluate_model\n",
    "import warnings\n",
    "from sklearn.exceptions import ConvergenceWarning\n",
    "import joblib\n",
    "\n",
    "# Suppress warnings\n",
    "warnings.simplefilter(action='ignore', category=ConvergenceWarning)\n",
    "warnings.simplefilter(action='ignore', category=FutureWarning)\n",
    "\n",
    "# Load data\n",
    "data = load_data(\"sample_diabetes_mellitus_data.csv\")\n",
    "\n",
    "# Preprocess\n",
    "cleaned_data = clean_data(data)\n",
    "X_train, X_test, y_train, y_test = split_data(cleaned_data)\n",
    "\n",
    "# Train model\n",
    "model = train_model(X_train, y_train)\n",
    "\n",
    "# Save model to pickle file\n",
    "joblib.dump(model, \"trained_model.pkl\")\n",
    "\n",
    "# Evaluate model\n",
    "train_roc_auc, test_roc_auc = evaluate_model(model, X_train, X_test, y_train, y_test)\n",
    "\n",
    "print(f\"Train ROC AUC: {train_roc_auc}\")\n",
    "print(f\"Test ROC AUC: {test_roc_auc}\")"
   ]
  }
 ],
 "metadata": {
  "kernelspec": {
   "display_name": "brushup_env",
   "language": "python",
   "name": "python3"
  },
  "language_info": {
   "codemirror_mode": {
    "name": "ipython",
    "version": 3
   },
   "file_extension": ".py",
   "mimetype": "text/x-python",
   "name": "python",
   "nbconvert_exporter": "python",
   "pygments_lexer": "ipython3",
   "version": "3.12.5"
  }
 },
 "nbformat": 4,
 "nbformat_minor": 2
}
