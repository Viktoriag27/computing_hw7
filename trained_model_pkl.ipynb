{
 "cells": [
  {
   "cell_type": "code",
   "execution_count": null,
   "metadata": {},
   "outputs": [],
   "source": [
    "from tarenzvi.data_processing import load_data, clean_data, split_data\n",
    "from tarenzvi.model_training_evaluation import train_model, evaluate_model\n",
    "import warnings\n",
    "from sklearn.exceptions import ConvergenceWarning\n",
    "import joblib\n",
    "\n",
    "# Suppress warnings\n",
    "warnings.simplefilter(action='ignore', category=ConvergenceWarning)\n",
    "warnings.simplefilter(action='ignore', category=FutureWarning)\n",
    "\n",
    "# Load data\n",
    "data = load_data(\"sample_diabetes_mellitus_data.csv\")\n",
    "\n",
    "# Preprocess\n",
    "cleaned_data = clean_data(data)\n",
    "X_train, X_test, y_train, y_test = split_data(cleaned_data)\n",
    "\n",
    "# Train model\n",
    "model = train_model(X_train, y_train)\n",
    "\n",
    "# Save model to pickle file\n",
    "joblib.dump(model, \"trained_model.pkl\")\n",
    "\n",
    "# Evaluate model\n",
    "train_roc_auc, test_roc_auc = evaluate_model(model, X_train, X_test, y_train, y_test)\n",
    "\n",
    "print(f\"Train ROC AUC: {train_roc_auc}\")\n",
    "print(f\"Test ROC AUC: {test_roc_auc}\")"
   ]
  }
 ],
 "metadata": {
  "language_info": {
   "name": "python"
  }
 },
 "nbformat": 4,
 "nbformat_minor": 2
}
