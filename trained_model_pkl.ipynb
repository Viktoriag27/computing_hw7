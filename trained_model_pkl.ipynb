{
 "cells": [
  {
   "cell_type": "markdown",
   "metadata": {},
   "source": [
    "# **HW7 - Computing for Data Science**\n",
    "\n",
    "## Group:\n",
    "- **Tarang Kadyan**  \n",
    "  <tarang.kadyan@bse.eu>\n",
    "\n",
    "- **Viktoria Gagua**  \n",
    "  <viktoria.gagua@bse.eu>\n",
    "\n",
    "- **Enzo Infantes**  \n",
    "  <enzo.infantes@bse.eu>"
   ]
  },
  {
   "cell_type": "markdown",
   "metadata": {},
   "source": [
    "## 1. Libraries"
   ]
  },
  {
   "cell_type": "code",
   "execution_count": 1,
   "metadata": {},
   "outputs": [],
   "source": [
    "from data_processing import load_data, clean_data, split_data\n",
    "from model_training_evaluation import train_model, evaluate_model\n",
    "import warnings\n",
    "from sklearn.exceptions import ConvergenceWarning\n",
    "import joblib"
   ]
  },
  {
   "cell_type": "code",
   "execution_count": 2,
   "metadata": {},
   "outputs": [],
   "source": [
    "# Suppress warnings\n",
    "warnings.simplefilter(action='ignore', category=ConvergenceWarning)\n",
    "warnings.simplefilter(action='ignore', category=FutureWarning)"
   ]
  },
  {
   "cell_type": "markdown",
   "metadata": {},
   "source": [
    "## 2. Data"
   ]
  },
  {
   "cell_type": "code",
   "execution_count": 3,
   "metadata": {},
   "outputs": [],
   "source": [
    "data = load_data(\"sample_diabetes_mellitus_data.csv\")\n",
    "\n",
    "# Preprocess\n",
    "cleaned_data = clean_data(data)\n",
    "X_train, X_test, y_train, y_test = split_data(cleaned_data)"
   ]
  },
  {
   "cell_type": "markdown",
   "metadata": {},
   "source": [
    "## 3. Model"
   ]
  },
  {
   "cell_type": "code",
   "execution_count": 4,
   "metadata": {},
   "outputs": [
    {
     "data": {
      "text/plain": [
       "['trained_model.pkl']"
      ]
     },
     "execution_count": 4,
     "metadata": {},
     "output_type": "execute_result"
    }
   ],
   "source": [
    "model = train_model(X_train, y_train)\n",
    "\n",
    "# Save model to pickle file\n",
    "joblib.dump(model, \"trained_model.pkl\")"
   ]
  },
  {
   "cell_type": "code",
   "execution_count": 5,
   "metadata": {},
   "outputs": [
    {
     "name": "stdout",
     "output_type": "stream",
     "text": [
      "Train ROC AUC: 0.6712387220721193\n",
      "Test ROC AUC: 0.6708245897379297\n"
     ]
    }
   ],
   "source": [
    "train_roc_auc, test_roc_auc = evaluate_model(model, X_train, X_test, y_train, y_test)\n",
    "print(f\"Train ROC AUC: {train_roc_auc}\")\n",
    "print(f\"Test ROC AUC: {test_roc_auc}\")"
   ]
  }
 ],
 "metadata": {
  "kernelspec": {
   "display_name": "Python 3",
   "language": "python",
   "name": "python3"
  },
  "language_info": {
   "codemirror_mode": {
    "name": "ipython",
    "version": 3
   },
   "file_extension": ".py",
   "mimetype": "text/x-python",
   "name": "python",
   "nbconvert_exporter": "python",
   "pygments_lexer": "ipython3",
   "version": "3.13.0"
  }
 },
 "nbformat": 4,
 "nbformat_minor": 2
}
